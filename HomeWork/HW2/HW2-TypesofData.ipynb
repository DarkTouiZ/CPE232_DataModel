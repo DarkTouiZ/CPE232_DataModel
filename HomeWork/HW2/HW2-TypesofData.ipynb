{
  "cells": [
    {
      "cell_type": "markdown",
      "metadata": {},
      "source": [
        "# HW 2: Types of Data\n",
        "#### CPE232 Data Models\n",
        "---"
      ]
    },
    {
      "cell_type": "markdown",
      "metadata": {
        "id": "_C6sD6-IERJG"
      },
      "source": [
        "# Import Dependency"
      ]
    },
    {
      "cell_type": "code",
      "execution_count": 1,
      "metadata": {
        "id": "rJMe-tyMEQ4p"
      },
      "outputs": [],
      "source": [
        "import pandas as pd\n",
        "import matplotlib.pyplot as plt\n",
        "import numpy as np"
      ]
    },
    {
      "cell_type": "markdown",
      "metadata": {
        "id": "M7gVXcwzF8gv"
      },
      "source": [
        "# Part 1 : Basic Python"
      ]
    },
    {
      "cell_type": "markdown",
      "metadata": {
        "id": "ZizA7iWUGEJ6"
      },
      "source": [
        "## Task 1"
      ]
    },
    {
      "cell_type": "markdown",
      "metadata": {
        "id": "gWtiOdZ3GHHx"
      },
      "source": [
        "เขียนโปรแกรมสำหรับใส่ค่า Input แต่ละ type ที่ต่างกัน ทำการแสดง type ของแต่ละตัว และทดลองแปลงค่า Float ให้กลายเป็น int พร้อมแสดง Before After"
      ]
    },
    {
      "cell_type": "code",
      "execution_count": 9,
      "metadata": {
        "id": "kfNoLb-FF-m5"
      },
      "outputs": [],
      "source": [
        "# Input values from the user\n",
        "string_value = input(\"Enter a string: \")\n",
        "integer_value = int(input(\"Enter an integer: \"))\n",
        "float_value = float(input(\"Enter a float: \"))"
      ]
    },
    {
      "cell_type": "code",
      "execution_count": 10,
      "metadata": {
        "id": "NEb5FRMzGYlP"
      },
      "outputs": [
        {
          "name": "stdout",
          "output_type": "stream",
          "text": [
            "String:  <class 'str'>\n",
            "Integer:  <class 'int'>\n",
            "Float:  <class 'float'>\n"
          ]
        }
      ],
      "source": [
        "# Display the data types\n",
        "print(\"String: \", type(string_value))\n",
        "print(\"Integer: \", type(integer_value))\n",
        "print(\"Float: \", type(float_value))"
      ]
    },
    {
      "cell_type": "code",
      "execution_count": 11,
      "metadata": {
        "id": "r1YAS93cGn1W"
      },
      "outputs": [
        {
          "name": "stdout",
          "output_type": "stream",
          "text": [
            "Integer before conversion:  5\n",
            "Integer after conversion:  5.0\n"
          ]
        }
      ],
      "source": [
        "# Convert integer to float and vice versa\n",
        "print(\"Integer before conversion: \", integer_value)\n",
        "integer_value = float(integer_value)\n",
        "print(\"Integer after conversion: \", integer_value)"
      ]
    },
    {
      "cell_type": "code",
      "execution_count": 12,
      "metadata": {
        "id": "vkQwFOH0GBHq"
      },
      "outputs": [
        {
          "name": "stdout",
          "output_type": "stream",
          "text": [
            "Float before conversion:  6.0\n",
            "Float after conversion:  6\n"
          ]
        }
      ],
      "source": [
        "# Show before and after convert float to int\n",
        "print(\"Float before conversion: \", float_value)\n",
        "float_value = int(float_value)\n",
        "print(\"Float after conversion: \", float_value)"
      ]
    },
    {
      "cell_type": "markdown",
      "metadata": {
        "id": "V6rZQ_mKGxV6"
      },
      "source": [
        "## Task 2"
      ]
    },
    {
      "cell_type": "markdown",
      "metadata": {
        "id": "1ytsZGx5Gzyk"
      },
      "source": [
        "มีคะแนนของนักเรียนแต่ละคนให้ในรูปแบบ Dictionary จงหาคะแนนเฉลี่ยของนักเรียนแต่ละคนในทุกวิชาและหาคนที่ได้คะแนนเฉลี่ยสูงสุด"
      ]
    },
    {
      "cell_type": "code",
      "execution_count": 13,
      "metadata": {
        "id": "kze1CuNGHIXB"
      },
      "outputs": [],
      "source": [
        "students_grades = {\n",
        "    \"John\": [85, 90, 78],\n",
        "    \"Alice\": [88, 92, 80],\n",
        "    \"Bob\": [75, 85, 72],\n",
        "    \"Diana\": [90, 95, 94],\n",
        "    \"Charlie\": [70, 65, 80]\n",
        "}"
      ]
    },
    {
      "cell_type": "code",
      "execution_count": 14,
      "metadata": {
        "id": "wGO6J-owHLeG"
      },
      "outputs": [
        {
          "name": "stdout",
          "output_type": "stream",
          "text": [
            "John has an average grade about 84.33\n",
            "Alice has an average grade about 86.67\n",
            "Bob has an average grade about 77.33\n",
            "Diana has an average grade about 93.00\n",
            "Charlie has an average grade about 71.67\n"
          ]
        }
      ],
      "source": [
        "# Calculate and print the average grade for each student\n",
        "hightest_average = 0\n",
        "hightest_student = \"\"\n",
        "for student, grades in students_grades.items():\n",
        "    average = sum(grades)/len(grades)\n",
        "    print(f\"{student} has an average grade about {average:.2f}\")\n",
        "    if average > hightest_average:\n",
        "        hightest_average = average\n",
        "        hightest_student = student"
      ]
    },
    {
      "cell_type": "code",
      "execution_count": 15,
      "metadata": {
        "id": "erBdHagTHMZ1"
      },
      "outputs": [
        {
          "name": "stdout",
          "output_type": "stream",
          "text": [
            "The student with the highest average grade is Diana with 93.00\n"
          ]
        }
      ],
      "source": [
        "# Find the student with the highest average grade\n",
        "print(f\"The student with the highest average grade is {hightest_student} with {hightest_average:.2f}\")"
      ]
    },
    {
      "cell_type": "markdown",
      "metadata": {
        "id": "vedd5LajDZpc"
      },
      "source": [
        "# Part 2 : Working with CSV!"
      ]
    },
    {
      "cell_type": "markdown",
      "metadata": {
        "id": "-SunXx4IEcNa"
      },
      "source": [
        "จงสร้างคอลัมน์ใหม่ให้กับ CSV ไฟล์นี้ชื่อว่า Bonus และให้คำนวณ Bonus ให้กับพนักงานที่อยู่แผนก Sales เป็นจำนวน 10% จาก MonthlyRate ของคนๆนั้น"
      ]
    },
    {
      "cell_type": "code",
      "execution_count": 16,
      "metadata": {
        "id": "5K7zeMGTBMBq"
      },
      "outputs": [],
      "source": [
        "# Load the CSV file\n",
        "file_path = 'employee_data.csv'\n",
        "df = pd.read_csv(file_path)"
      ]
    },
    {
      "cell_type": "code",
      "execution_count": 17,
      "metadata": {
        "colab": {
          "base_uri": "https://localhost:8080/",
          "height": 206
        },
        "id": "SayuQhbgFEkZ",
        "outputId": "7810d610-bf4c-49fe-8723-ba6f9adb323d"
      },
      "outputs": [
        {
          "data": {
            "text/html": [
              "<div>\n",
              "<style scoped>\n",
              "    .dataframe tbody tr th:only-of-type {\n",
              "        vertical-align: middle;\n",
              "    }\n",
              "\n",
              "    .dataframe tbody tr th {\n",
              "        vertical-align: top;\n",
              "    }\n",
              "\n",
              "    .dataframe thead th {\n",
              "        text-align: right;\n",
              "    }\n",
              "</style>\n",
              "<table border=\"1\" class=\"dataframe\">\n",
              "  <thead>\n",
              "    <tr style=\"text-align: right;\">\n",
              "      <th></th>\n",
              "      <th>Age</th>\n",
              "      <th>DailyRate</th>\n",
              "      <th>Department</th>\n",
              "      <th>EducationField</th>\n",
              "      <th>Gender</th>\n",
              "      <th>MaritalStatus</th>\n",
              "      <th>MonthlyRate</th>\n",
              "      <th>OverTime</th>\n",
              "      <th>Bonus</th>\n",
              "    </tr>\n",
              "  </thead>\n",
              "  <tbody>\n",
              "    <tr>\n",
              "      <th>0</th>\n",
              "      <td>41</td>\n",
              "      <td>1102</td>\n",
              "      <td>Sales</td>\n",
              "      <td>Life Sciences</td>\n",
              "      <td>Female</td>\n",
              "      <td>Single</td>\n",
              "      <td>19479</td>\n",
              "      <td>Yes</td>\n",
              "      <td>1947.9</td>\n",
              "    </tr>\n",
              "    <tr>\n",
              "      <th>1</th>\n",
              "      <td>49</td>\n",
              "      <td>279</td>\n",
              "      <td>Research &amp; Development</td>\n",
              "      <td>Life Sciences</td>\n",
              "      <td>Male</td>\n",
              "      <td>Married</td>\n",
              "      <td>24907</td>\n",
              "      <td>No</td>\n",
              "      <td>0.0</td>\n",
              "    </tr>\n",
              "    <tr>\n",
              "      <th>2</th>\n",
              "      <td>37</td>\n",
              "      <td>1373</td>\n",
              "      <td>Research &amp; Development</td>\n",
              "      <td>Other</td>\n",
              "      <td>Male</td>\n",
              "      <td>Single</td>\n",
              "      <td>2396</td>\n",
              "      <td>Yes</td>\n",
              "      <td>0.0</td>\n",
              "    </tr>\n",
              "    <tr>\n",
              "      <th>3</th>\n",
              "      <td>33</td>\n",
              "      <td>1392</td>\n",
              "      <td>Research &amp; Development</td>\n",
              "      <td>Life Sciences</td>\n",
              "      <td>Female</td>\n",
              "      <td>Married</td>\n",
              "      <td>23159</td>\n",
              "      <td>Yes</td>\n",
              "      <td>0.0</td>\n",
              "    </tr>\n",
              "    <tr>\n",
              "      <th>4</th>\n",
              "      <td>27</td>\n",
              "      <td>591</td>\n",
              "      <td>Research &amp; Development</td>\n",
              "      <td>Medical</td>\n",
              "      <td>Male</td>\n",
              "      <td>Married</td>\n",
              "      <td>16632</td>\n",
              "      <td>No</td>\n",
              "      <td>0.0</td>\n",
              "    </tr>\n",
              "  </tbody>\n",
              "</table>\n",
              "</div>"
            ],
            "text/plain": [
              "   Age  DailyRate              Department EducationField  Gender  \\\n",
              "0   41       1102                   Sales  Life Sciences  Female   \n",
              "1   49        279  Research & Development  Life Sciences    Male   \n",
              "2   37       1373  Research & Development          Other    Male   \n",
              "3   33       1392  Research & Development  Life Sciences  Female   \n",
              "4   27        591  Research & Development        Medical    Male   \n",
              "\n",
              "  MaritalStatus  MonthlyRate OverTime   Bonus  \n",
              "0        Single        19479      Yes  1947.9  \n",
              "1       Married        24907       No     0.0  \n",
              "2        Single         2396      Yes     0.0  \n",
              "3       Married        23159      Yes     0.0  \n",
              "4       Married        16632       No     0.0  "
            ]
          },
          "execution_count": 17,
          "metadata": {},
          "output_type": "execute_result"
        }
      ],
      "source": [
        "df.head()"
      ]
    },
    {
      "cell_type": "code",
      "execution_count": 18,
      "metadata": {
        "id": "mqOYqV_QEVWY"
      },
      "outputs": [],
      "source": [
        "# Add new column call 'Bonus'\n",
        "df['Bonus'] = 0"
      ]
    },
    {
      "cell_type": "code",
      "execution_count": 19,
      "metadata": {
        "id": "RlswWTzYE3NM"
      },
      "outputs": [],
      "source": [
        "# Calculate 10% of bonus into the 'Bonus' Column\n",
        "df['Bonus'] = df.apply(lambda row: row['MonthlyRate'] * 0.1 if row['Department'] == 'Sales' else 0, axis=1)"
      ]
    },
    {
      "cell_type": "code",
      "execution_count": 20,
      "metadata": {
        "id": "AIVAF977Fdg0"
      },
      "outputs": [
        {
          "data": {
            "text/html": [
              "<div>\n",
              "<style scoped>\n",
              "    .dataframe tbody tr th:only-of-type {\n",
              "        vertical-align: middle;\n",
              "    }\n",
              "\n",
              "    .dataframe tbody tr th {\n",
              "        vertical-align: top;\n",
              "    }\n",
              "\n",
              "    .dataframe thead th {\n",
              "        text-align: right;\n",
              "    }\n",
              "</style>\n",
              "<table border=\"1\" class=\"dataframe\">\n",
              "  <thead>\n",
              "    <tr style=\"text-align: right;\">\n",
              "      <th></th>\n",
              "      <th>Age</th>\n",
              "      <th>DailyRate</th>\n",
              "      <th>Department</th>\n",
              "      <th>EducationField</th>\n",
              "      <th>Gender</th>\n",
              "      <th>MaritalStatus</th>\n",
              "      <th>MonthlyRate</th>\n",
              "      <th>OverTime</th>\n",
              "      <th>Bonus</th>\n",
              "    </tr>\n",
              "  </thead>\n",
              "  <tbody>\n",
              "    <tr>\n",
              "      <th>0</th>\n",
              "      <td>41</td>\n",
              "      <td>1102</td>\n",
              "      <td>Sales</td>\n",
              "      <td>Life Sciences</td>\n",
              "      <td>Female</td>\n",
              "      <td>Single</td>\n",
              "      <td>19479</td>\n",
              "      <td>Yes</td>\n",
              "      <td>1947.9</td>\n",
              "    </tr>\n",
              "    <tr>\n",
              "      <th>1</th>\n",
              "      <td>49</td>\n",
              "      <td>279</td>\n",
              "      <td>Research &amp; Development</td>\n",
              "      <td>Life Sciences</td>\n",
              "      <td>Male</td>\n",
              "      <td>Married</td>\n",
              "      <td>24907</td>\n",
              "      <td>No</td>\n",
              "      <td>0.0</td>\n",
              "    </tr>\n",
              "    <tr>\n",
              "      <th>2</th>\n",
              "      <td>37</td>\n",
              "      <td>1373</td>\n",
              "      <td>Research &amp; Development</td>\n",
              "      <td>Other</td>\n",
              "      <td>Male</td>\n",
              "      <td>Single</td>\n",
              "      <td>2396</td>\n",
              "      <td>Yes</td>\n",
              "      <td>0.0</td>\n",
              "    </tr>\n",
              "    <tr>\n",
              "      <th>3</th>\n",
              "      <td>33</td>\n",
              "      <td>1392</td>\n",
              "      <td>Research &amp; Development</td>\n",
              "      <td>Life Sciences</td>\n",
              "      <td>Female</td>\n",
              "      <td>Married</td>\n",
              "      <td>23159</td>\n",
              "      <td>Yes</td>\n",
              "      <td>0.0</td>\n",
              "    </tr>\n",
              "    <tr>\n",
              "      <th>4</th>\n",
              "      <td>27</td>\n",
              "      <td>591</td>\n",
              "      <td>Research &amp; Development</td>\n",
              "      <td>Medical</td>\n",
              "      <td>Male</td>\n",
              "      <td>Married</td>\n",
              "      <td>16632</td>\n",
              "      <td>No</td>\n",
              "      <td>0.0</td>\n",
              "    </tr>\n",
              "    <tr>\n",
              "      <th>5</th>\n",
              "      <td>32</td>\n",
              "      <td>1005</td>\n",
              "      <td>Research &amp; Development</td>\n",
              "      <td>Life Sciences</td>\n",
              "      <td>Male</td>\n",
              "      <td>Single</td>\n",
              "      <td>11864</td>\n",
              "      <td>No</td>\n",
              "      <td>0.0</td>\n",
              "    </tr>\n",
              "    <tr>\n",
              "      <th>6</th>\n",
              "      <td>59</td>\n",
              "      <td>1324</td>\n",
              "      <td>Research &amp; Development</td>\n",
              "      <td>Medical</td>\n",
              "      <td>Female</td>\n",
              "      <td>Married</td>\n",
              "      <td>9964</td>\n",
              "      <td>Yes</td>\n",
              "      <td>0.0</td>\n",
              "    </tr>\n",
              "    <tr>\n",
              "      <th>7</th>\n",
              "      <td>30</td>\n",
              "      <td>1358</td>\n",
              "      <td>Research &amp; Development</td>\n",
              "      <td>Life Sciences</td>\n",
              "      <td>Male</td>\n",
              "      <td>Divorced</td>\n",
              "      <td>13335</td>\n",
              "      <td>No</td>\n",
              "      <td>0.0</td>\n",
              "    </tr>\n",
              "    <tr>\n",
              "      <th>8</th>\n",
              "      <td>38</td>\n",
              "      <td>216</td>\n",
              "      <td>Research &amp; Development</td>\n",
              "      <td>Life Sciences</td>\n",
              "      <td>Male</td>\n",
              "      <td>Single</td>\n",
              "      <td>8787</td>\n",
              "      <td>No</td>\n",
              "      <td>0.0</td>\n",
              "    </tr>\n",
              "    <tr>\n",
              "      <th>9</th>\n",
              "      <td>36</td>\n",
              "      <td>1299</td>\n",
              "      <td>Research &amp; Development</td>\n",
              "      <td>Medical</td>\n",
              "      <td>Male</td>\n",
              "      <td>Married</td>\n",
              "      <td>16577</td>\n",
              "      <td>No</td>\n",
              "      <td>0.0</td>\n",
              "    </tr>\n",
              "    <tr>\n",
              "      <th>10</th>\n",
              "      <td>35</td>\n",
              "      <td>809</td>\n",
              "      <td>Research &amp; Development</td>\n",
              "      <td>Medical</td>\n",
              "      <td>Male</td>\n",
              "      <td>Married</td>\n",
              "      <td>16479</td>\n",
              "      <td>No</td>\n",
              "      <td>0.0</td>\n",
              "    </tr>\n",
              "    <tr>\n",
              "      <th>11</th>\n",
              "      <td>29</td>\n",
              "      <td>153</td>\n",
              "      <td>Research &amp; Development</td>\n",
              "      <td>Life Sciences</td>\n",
              "      <td>Female</td>\n",
              "      <td>Single</td>\n",
              "      <td>12682</td>\n",
              "      <td>Yes</td>\n",
              "      <td>0.0</td>\n",
              "    </tr>\n",
              "    <tr>\n",
              "      <th>12</th>\n",
              "      <td>31</td>\n",
              "      <td>670</td>\n",
              "      <td>Research &amp; Development</td>\n",
              "      <td>Life Sciences</td>\n",
              "      <td>Male</td>\n",
              "      <td>Divorced</td>\n",
              "      <td>15170</td>\n",
              "      <td>No</td>\n",
              "      <td>0.0</td>\n",
              "    </tr>\n",
              "    <tr>\n",
              "      <th>13</th>\n",
              "      <td>34</td>\n",
              "      <td>1346</td>\n",
              "      <td>Research &amp; Development</td>\n",
              "      <td>Medical</td>\n",
              "      <td>Male</td>\n",
              "      <td>Divorced</td>\n",
              "      <td>8758</td>\n",
              "      <td>No</td>\n",
              "      <td>0.0</td>\n",
              "    </tr>\n",
              "    <tr>\n",
              "      <th>14</th>\n",
              "      <td>28</td>\n",
              "      <td>103</td>\n",
              "      <td>Research &amp; Development</td>\n",
              "      <td>Life Sciences</td>\n",
              "      <td>Male</td>\n",
              "      <td>Single</td>\n",
              "      <td>12947</td>\n",
              "      <td>Yes</td>\n",
              "      <td>0.0</td>\n",
              "    </tr>\n",
              "    <tr>\n",
              "      <th>15</th>\n",
              "      <td>29</td>\n",
              "      <td>1389</td>\n",
              "      <td>Research &amp; Development</td>\n",
              "      <td>Life Sciences</td>\n",
              "      <td>Female</td>\n",
              "      <td>Divorced</td>\n",
              "      <td>10195</td>\n",
              "      <td>No</td>\n",
              "      <td>0.0</td>\n",
              "    </tr>\n",
              "    <tr>\n",
              "      <th>16</th>\n",
              "      <td>32</td>\n",
              "      <td>334</td>\n",
              "      <td>Research &amp; Development</td>\n",
              "      <td>Life Sciences</td>\n",
              "      <td>Male</td>\n",
              "      <td>Divorced</td>\n",
              "      <td>15053</td>\n",
              "      <td>Yes</td>\n",
              "      <td>0.0</td>\n",
              "    </tr>\n",
              "    <tr>\n",
              "      <th>17</th>\n",
              "      <td>22</td>\n",
              "      <td>1123</td>\n",
              "      <td>Research &amp; Development</td>\n",
              "      <td>Medical</td>\n",
              "      <td>Male</td>\n",
              "      <td>Divorced</td>\n",
              "      <td>7324</td>\n",
              "      <td>Yes</td>\n",
              "      <td>0.0</td>\n",
              "    </tr>\n",
              "    <tr>\n",
              "      <th>18</th>\n",
              "      <td>53</td>\n",
              "      <td>1219</td>\n",
              "      <td>Sales</td>\n",
              "      <td>Life Sciences</td>\n",
              "      <td>Female</td>\n",
              "      <td>Married</td>\n",
              "      <td>22021</td>\n",
              "      <td>No</td>\n",
              "      <td>2202.1</td>\n",
              "    </tr>\n",
              "    <tr>\n",
              "      <th>19</th>\n",
              "      <td>38</td>\n",
              "      <td>371</td>\n",
              "      <td>Research &amp; Development</td>\n",
              "      <td>Life Sciences</td>\n",
              "      <td>Male</td>\n",
              "      <td>Single</td>\n",
              "      <td>4306</td>\n",
              "      <td>Yes</td>\n",
              "      <td>0.0</td>\n",
              "    </tr>\n",
              "  </tbody>\n",
              "</table>\n",
              "</div>"
            ],
            "text/plain": [
              "    Age  DailyRate              Department EducationField  Gender  \\\n",
              "0    41       1102                   Sales  Life Sciences  Female   \n",
              "1    49        279  Research & Development  Life Sciences    Male   \n",
              "2    37       1373  Research & Development          Other    Male   \n",
              "3    33       1392  Research & Development  Life Sciences  Female   \n",
              "4    27        591  Research & Development        Medical    Male   \n",
              "5    32       1005  Research & Development  Life Sciences    Male   \n",
              "6    59       1324  Research & Development        Medical  Female   \n",
              "7    30       1358  Research & Development  Life Sciences    Male   \n",
              "8    38        216  Research & Development  Life Sciences    Male   \n",
              "9    36       1299  Research & Development        Medical    Male   \n",
              "10   35        809  Research & Development        Medical    Male   \n",
              "11   29        153  Research & Development  Life Sciences  Female   \n",
              "12   31        670  Research & Development  Life Sciences    Male   \n",
              "13   34       1346  Research & Development        Medical    Male   \n",
              "14   28        103  Research & Development  Life Sciences    Male   \n",
              "15   29       1389  Research & Development  Life Sciences  Female   \n",
              "16   32        334  Research & Development  Life Sciences    Male   \n",
              "17   22       1123  Research & Development        Medical    Male   \n",
              "18   53       1219                   Sales  Life Sciences  Female   \n",
              "19   38        371  Research & Development  Life Sciences    Male   \n",
              "\n",
              "   MaritalStatus  MonthlyRate OverTime   Bonus  \n",
              "0         Single        19479      Yes  1947.9  \n",
              "1        Married        24907       No     0.0  \n",
              "2         Single         2396      Yes     0.0  \n",
              "3        Married        23159      Yes     0.0  \n",
              "4        Married        16632       No     0.0  \n",
              "5         Single        11864       No     0.0  \n",
              "6        Married         9964      Yes     0.0  \n",
              "7       Divorced        13335       No     0.0  \n",
              "8         Single         8787       No     0.0  \n",
              "9        Married        16577       No     0.0  \n",
              "10       Married        16479       No     0.0  \n",
              "11        Single        12682      Yes     0.0  \n",
              "12      Divorced        15170       No     0.0  \n",
              "13      Divorced         8758       No     0.0  \n",
              "14        Single        12947      Yes     0.0  \n",
              "15      Divorced        10195       No     0.0  \n",
              "16      Divorced        15053      Yes     0.0  \n",
              "17      Divorced         7324      Yes     0.0  \n",
              "18       Married        22021       No  2202.1  \n",
              "19        Single         4306      Yes     0.0  "
            ]
          },
          "execution_count": 20,
          "metadata": {},
          "output_type": "execute_result"
        }
      ],
      "source": [
        "# Print and show result\n",
        "df.head(20)"
      ]
    },
    {
      "cell_type": "code",
      "execution_count": 21,
      "metadata": {
        "id": "-kdUJtE1FgEL"
      },
      "outputs": [],
      "source": [
        "# Save the updated DataFrame back to a CSV file\n",
        "df.to_csv('employee_data.csv', index=False)"
      ]
    },
    {
      "cell_type": "markdown",
      "metadata": {
        "id": "siUU4Z19FmTr"
      },
      "source": [
        "# Part 3 : Working with Matplotlib"
      ]
    },
    {
      "cell_type": "markdown",
      "metadata": {
        "id": "5GLA4nYnIURl"
      },
      "source": [
        "จงพล็อตกราฟแสดงค่าเฉลี่ยเงินเดือนของพนักงานในแต่ละ Department เพื่อเปรียบเทียบเงินเดือนเฉลี่ยของแต่ละ Department"
      ]
    },
    {
      "cell_type": "code",
      "execution_count": 22,
      "metadata": {
        "id": "P5-qoxEyIpdN"
      },
      "outputs": [],
      "source": [
        "# Load CSV and create DataFrame\n",
        "data = pd.read_csv('employee_data.csv')\n",
        "df = pd.DataFrame(data)"
      ]
    },
    {
      "cell_type": "code",
      "execution_count": 32,
      "metadata": {
        "id": "HtYFO0xPIt1a"
      },
      "outputs": [
        {
          "data": {
            "text/plain": [
              "Department\n",
              "Human Resources           13492.984127\n",
              "Research & Development    14284.865765\n",
              "Sales                     14489.793722\n",
              "Name: MonthlyRate, dtype: float64"
            ]
          },
          "execution_count": 32,
          "metadata": {},
          "output_type": "execute_result"
        }
      ],
      "source": [
        "# Calculate average MonthlyRate by Department\n",
        "average_monthly_rate = df.groupby('Department')['MonthlyRate'].mean()\n",
        "\n",
        "average_monthly_rate"
      ]
    },
    {
      "cell_type": "code",
      "execution_count": 67,
      "metadata": {
        "id": "d9RgD_DmIwCp"
      },
      "outputs": [
        {
          "data": {
            "image/png": "[encoded data removed]",
            "text/plain": [
              "<Figure size 640x480 with 1 Axes>"
            ]
          },
          "metadata": {},
          "output_type": "display_data"
        }
      ],
      "source": [
        "# Plotting the bar chart\n",
        "average_monthly_rate.plot(kind='bar')\n",
        "\n",
        "# Add title and labels\n",
        "plt.title('Average Monthly Rate by Department')\n",
        "plt.xlabel('Department')\n",
        "plt.ylabel('Average Monthly Rate')\n",
        "\n",
        "# Add gridlines\n",
        "plt.grid(axis='y')\n",
        "\n",
        "# Add number at the top of each bar\n",
        "for index, value in enumerate(average_monthly_rate):\n",
        "    plt.text(index, value, str(round(float(value),2)), ha='center')"
      ]
    },
    {
      "cell_type": "markdown",
      "metadata": {
        "id": "Ha13UaGfI2E1"
      },
      "source": [
        "# Challenge!!! : Working with SATAN (Optional)"
      ]
    },
    {
      "cell_type": "markdown",
      "metadata": {
        "id": "3dR3-jHjJKPy"
      },
      "source": [
        "ดีมากเหล่าเด็กๆที่ยังไม่ยอมแพ้ให้กับวิชานี้!\n",
        "\n",
        "<div>\n",
        "<img src=\"https://media2.giphy.com/media/ErZ8hv5eO92JW/200.gif?cid=6c09b952k9ykzx0na1tsrm5sa0gb4m4z39w5z6z65u05oohs&ep=v1_gifs_search&rid=200.gif&ct=g\" width=\"500\"/>\n",
        "</div>\n"
      ]
    },
    {
      "cell_type": "markdown",
      "metadata": {
        "id": "Dk_GINWZJ_M0"
      },
      "source": [
        "เรื่องมันมีอยู่ว่า จากไฟล์ CSV ที่พี่ไทให้น้องๆไป...มันไม่ใช่ไฟล์ธรรมดา แต่มันเป็นไฟล์ข้อมูลในองกรณ์หนึ่งที่ Alya-San นั้นได้ทำงานอยู่\n",
        "\n",
        "<div>\n",
        "<img src=\"https://preview.redd.it/all-hail-alya-v0-8tiwrh5d3b3e1.jpeg?auto=webp&s=f22e38e7544697d75f2264f005504e5eb81a9721\" width=\"500\"/>\n",
        "</div>"
      ]
    },
    {
      "cell_type": "markdown",
      "metadata": {
        "id": "r8tMZ0nsLvKm"
      },
      "source": [
        "ซึ่งคุณอาเรียรู้สึกว่ามีสิ่งไม่ชอบมาพากลภายในบริษัท ว่ารายได้ของพนักงานชายและหญิงมีความไม่เท่าเทียมกัน\n",
        "\n",
        "รวมถึงรัฐอาจมีการแทรกแทรงเพื่อให้ประชากรภายในประเทศเพิ่มสูงขึ้น รัฐจึงแอบเพิ่มเงินเดือนให้กับผู้ที่แต่งงานอยู่รึเปล่าเมื่อเทียบกับคนโสด\n",
        "\n",
        "และคนที่จบจากสาขาที่แตกต่างจากกัน พวกเขาได้เงินเดือนมากกว่ากันมากน้อยแค่ไหน\n",
        "\n",
        "น้องๆช่วยคุณอาเรียพิสูจน์หน่อยว่าคุณอาเรียไปเองหรือมันเป็นเรื่องจริง!\n",
        "\n",
        "เพราะสำหรับคุณอาเรียแล้ว ทุกคนล้วน เ ท่ า เ ที ย ม กั น"
      ]
    },
    {
      "cell_type": "code",
      "execution_count": 25,
      "metadata": {
        "id": "SUghYHDpJAHm"
      },
      "outputs": [],
      "source": [
        "# Implement code here\n",
        "\n",
        "# read csv file\n",
        "file_path = \"employee_data.csv\"\n",
        "df = pd.read_csv(file_path)"
      ]
    },
    {
      "cell_type": "code",
      "execution_count": 26,
      "metadata": {},
      "outputs": [],
      "source": [
        "# seperate gender\n",
        "\n",
        "df_male = df[df[\"Gender\"] == \"Male\"]\n",
        "df_female = df[df[\"Gender\"] == \"Female\"]"
      ]
    },
    {
      "cell_type": "code",
      "execution_count": 27,
      "metadata": {},
      "outputs": [
        {
          "data": {
            "text/html": [
              "<div>\n",
              "<style scoped>\n",
              "    .dataframe tbody tr th:only-of-type {\n",
              "        vertical-align: middle;\n",
              "    }\n",
              "\n",
              "    .dataframe tbody tr th {\n",
              "        vertical-align: top;\n",
              "    }\n",
              "\n",
              "    .dataframe thead th {\n",
              "        text-align: right;\n",
              "    }\n",
              "</style>\n",
              "<table border=\"1\" class=\"dataframe\">\n",
              "  <thead>\n",
              "    <tr style=\"text-align: right;\">\n",
              "      <th></th>\n",
              "      <th>Age</th>\n",
              "      <th>DailyRate</th>\n",
              "      <th>Department</th>\n",
              "      <th>EducationField</th>\n",
              "      <th>Gender</th>\n",
              "      <th>MaritalStatus</th>\n",
              "      <th>MonthlyRate</th>\n",
              "      <th>OverTime</th>\n",
              "      <th>Bonus</th>\n",
              "    </tr>\n",
              "  </thead>\n",
              "  <tbody>\n",
              "    <tr>\n",
              "      <th>1</th>\n",
              "      <td>49</td>\n",
              "      <td>279</td>\n",
              "      <td>Research &amp; Development</td>\n",
              "      <td>Life Sciences</td>\n",
              "      <td>Male</td>\n",
              "      <td>Married</td>\n",
              "      <td>24907</td>\n",
              "      <td>No</td>\n",
              "      <td>0.0</td>\n",
              "    </tr>\n",
              "    <tr>\n",
              "      <th>2</th>\n",
              "      <td>37</td>\n",
              "      <td>1373</td>\n",
              "      <td>Research &amp; Development</td>\n",
              "      <td>Other</td>\n",
              "      <td>Male</td>\n",
              "      <td>Single</td>\n",
              "      <td>2396</td>\n",
              "      <td>Yes</td>\n",
              "      <td>0.0</td>\n",
              "    </tr>\n",
              "    <tr>\n",
              "      <th>4</th>\n",
              "      <td>27</td>\n",
              "      <td>591</td>\n",
              "      <td>Research &amp; Development</td>\n",
              "      <td>Medical</td>\n",
              "      <td>Male</td>\n",
              "      <td>Married</td>\n",
              "      <td>16632</td>\n",
              "      <td>No</td>\n",
              "      <td>0.0</td>\n",
              "    </tr>\n",
              "    <tr>\n",
              "      <th>5</th>\n",
              "      <td>32</td>\n",
              "      <td>1005</td>\n",
              "      <td>Research &amp; Development</td>\n",
              "      <td>Life Sciences</td>\n",
              "      <td>Male</td>\n",
              "      <td>Single</td>\n",
              "      <td>11864</td>\n",
              "      <td>No</td>\n",
              "      <td>0.0</td>\n",
              "    </tr>\n",
              "    <tr>\n",
              "      <th>7</th>\n",
              "      <td>30</td>\n",
              "      <td>1358</td>\n",
              "      <td>Research &amp; Development</td>\n",
              "      <td>Life Sciences</td>\n",
              "      <td>Male</td>\n",
              "      <td>Divorced</td>\n",
              "      <td>13335</td>\n",
              "      <td>No</td>\n",
              "      <td>0.0</td>\n",
              "    </tr>\n",
              "    <tr>\n",
              "      <th>8</th>\n",
              "      <td>38</td>\n",
              "      <td>216</td>\n",
              "      <td>Research &amp; Development</td>\n",
              "      <td>Life Sciences</td>\n",
              "      <td>Male</td>\n",
              "      <td>Single</td>\n",
              "      <td>8787</td>\n",
              "      <td>No</td>\n",
              "      <td>0.0</td>\n",
              "    </tr>\n",
              "    <tr>\n",
              "      <th>9</th>\n",
              "      <td>36</td>\n",
              "      <td>1299</td>\n",
              "      <td>Research &amp; Development</td>\n",
              "      <td>Medical</td>\n",
              "      <td>Male</td>\n",
              "      <td>Married</td>\n",
              "      <td>16577</td>\n",
              "      <td>No</td>\n",
              "      <td>0.0</td>\n",
              "    </tr>\n",
              "    <tr>\n",
              "      <th>10</th>\n",
              "      <td>35</td>\n",
              "      <td>809</td>\n",
              "      <td>Research &amp; Development</td>\n",
              "      <td>Medical</td>\n",
              "      <td>Male</td>\n",
              "      <td>Married</td>\n",
              "      <td>16479</td>\n",
              "      <td>No</td>\n",
              "      <td>0.0</td>\n",
              "    </tr>\n",
              "    <tr>\n",
              "      <th>12</th>\n",
              "      <td>31</td>\n",
              "      <td>670</td>\n",
              "      <td>Research &amp; Development</td>\n",
              "      <td>Life Sciences</td>\n",
              "      <td>Male</td>\n",
              "      <td>Divorced</td>\n",
              "      <td>15170</td>\n",
              "      <td>No</td>\n",
              "      <td>0.0</td>\n",
              "    </tr>\n",
              "    <tr>\n",
              "      <th>13</th>\n",
              "      <td>34</td>\n",
              "      <td>1346</td>\n",
              "      <td>Research &amp; Development</td>\n",
              "      <td>Medical</td>\n",
              "      <td>Male</td>\n",
              "      <td>Divorced</td>\n",
              "      <td>8758</td>\n",
              "      <td>No</td>\n",
              "      <td>0.0</td>\n",
              "    </tr>\n",
              "  </tbody>\n",
              "</table>\n",
              "</div>"
            ],
            "text/plain": [
              "    Age  DailyRate              Department EducationField Gender  \\\n",
              "1    49        279  Research & Development  Life Sciences   Male   \n",
              "2    37       1373  Research & Development          Other   Male   \n",
              "4    27        591  Research & Development        Medical   Male   \n",
              "5    32       1005  Research & Development  Life Sciences   Male   \n",
              "7    30       1358  Research & Development  Life Sciences   Male   \n",
              "8    38        216  Research & Development  Life Sciences   Male   \n",
              "9    36       1299  Research & Development        Medical   Male   \n",
              "10   35        809  Research & Development        Medical   Male   \n",
              "12   31        670  Research & Development  Life Sciences   Male   \n",
              "13   34       1346  Research & Development        Medical   Male   \n",
              "\n",
              "   MaritalStatus  MonthlyRate OverTime  Bonus  \n",
              "1        Married        24907       No    0.0  \n",
              "2         Single         2396      Yes    0.0  \n",
              "4        Married        16632       No    0.0  \n",
              "5         Single        11864       No    0.0  \n",
              "7       Divorced        13335       No    0.0  \n",
              "8         Single         8787       No    0.0  \n",
              "9        Married        16577       No    0.0  \n",
              "10       Married        16479       No    0.0  \n",
              "12      Divorced        15170       No    0.0  \n",
              "13      Divorced         8758       No    0.0  "
            ]
          },
          "execution_count": 27,
          "metadata": {},
          "output_type": "execute_result"
        }
      ],
      "source": [
        "df_male.head(10)"
      ]
    },
    {
      "cell_type": "code",
      "execution_count": 28,
      "metadata": {},
      "outputs": [
        {
          "data": {
            "text/html": [
              "<div>\n",
              "<style scoped>\n",
              "    .dataframe tbody tr th:only-of-type {\n",
              "        vertical-align: middle;\n",
              "    }\n",
              "\n",
              "    .dataframe tbody tr th {\n",
              "        vertical-align: top;\n",
              "    }\n",
              "\n",
              "    .dataframe thead th {\n",
              "        text-align: right;\n",
              "    }\n",
              "</style>\n",
              "<table border=\"1\" class=\"dataframe\">\n",
              "  <thead>\n",
              "    <tr style=\"text-align: right;\">\n",
              "      <th></th>\n",
              "      <th>Age</th>\n",
              "      <th>DailyRate</th>\n",
              "      <th>Department</th>\n",
              "      <th>EducationField</th>\n",
              "      <th>Gender</th>\n",
              "      <th>MaritalStatus</th>\n",
              "      <th>MonthlyRate</th>\n",
              "      <th>OverTime</th>\n",
              "      <th>Bonus</th>\n",
              "    </tr>\n",
              "  </thead>\n",
              "  <tbody>\n",
              "    <tr>\n",
              "      <th>0</th>\n",
              "      <td>41</td>\n",
              "      <td>1102</td>\n",
              "      <td>Sales</td>\n",
              "      <td>Life Sciences</td>\n",
              "      <td>Female</td>\n",
              "      <td>Single</td>\n",
              "      <td>19479</td>\n",
              "      <td>Yes</td>\n",
              "      <td>1947.9</td>\n",
              "    </tr>\n",
              "    <tr>\n",
              "      <th>3</th>\n",
              "      <td>33</td>\n",
              "      <td>1392</td>\n",
              "      <td>Research &amp; Development</td>\n",
              "      <td>Life Sciences</td>\n",
              "      <td>Female</td>\n",
              "      <td>Married</td>\n",
              "      <td>23159</td>\n",
              "      <td>Yes</td>\n",
              "      <td>0.0</td>\n",
              "    </tr>\n",
              "    <tr>\n",
              "      <th>6</th>\n",
              "      <td>59</td>\n",
              "      <td>1324</td>\n",
              "      <td>Research &amp; Development</td>\n",
              "      <td>Medical</td>\n",
              "      <td>Female</td>\n",
              "      <td>Married</td>\n",
              "      <td>9964</td>\n",
              "      <td>Yes</td>\n",
              "      <td>0.0</td>\n",
              "    </tr>\n",
              "    <tr>\n",
              "      <th>11</th>\n",
              "      <td>29</td>\n",
              "      <td>153</td>\n",
              "      <td>Research &amp; Development</td>\n",
              "      <td>Life Sciences</td>\n",
              "      <td>Female</td>\n",
              "      <td>Single</td>\n",
              "      <td>12682</td>\n",
              "      <td>Yes</td>\n",
              "      <td>0.0</td>\n",
              "    </tr>\n",
              "    <tr>\n",
              "      <th>15</th>\n",
              "      <td>29</td>\n",
              "      <td>1389</td>\n",
              "      <td>Research &amp; Development</td>\n",
              "      <td>Life Sciences</td>\n",
              "      <td>Female</td>\n",
              "      <td>Divorced</td>\n",
              "      <td>10195</td>\n",
              "      <td>No</td>\n",
              "      <td>0.0</td>\n",
              "    </tr>\n",
              "    <tr>\n",
              "      <th>18</th>\n",
              "      <td>53</td>\n",
              "      <td>1219</td>\n",
              "      <td>Sales</td>\n",
              "      <td>Life Sciences</td>\n",
              "      <td>Female</td>\n",
              "      <td>Married</td>\n",
              "      <td>22021</td>\n",
              "      <td>No</td>\n",
              "      <td>2202.1</td>\n",
              "    </tr>\n",
              "    <tr>\n",
              "      <th>20</th>\n",
              "      <td>24</td>\n",
              "      <td>673</td>\n",
              "      <td>Research &amp; Development</td>\n",
              "      <td>Other</td>\n",
              "      <td>Female</td>\n",
              "      <td>Divorced</td>\n",
              "      <td>8232</td>\n",
              "      <td>No</td>\n",
              "      <td>0.0</td>\n",
              "    </tr>\n",
              "    <tr>\n",
              "      <th>22</th>\n",
              "      <td>34</td>\n",
              "      <td>419</td>\n",
              "      <td>Research &amp; Development</td>\n",
              "      <td>Life Sciences</td>\n",
              "      <td>Female</td>\n",
              "      <td>Single</td>\n",
              "      <td>21293</td>\n",
              "      <td>No</td>\n",
              "      <td>0.0</td>\n",
              "    </tr>\n",
              "    <tr>\n",
              "      <th>25</th>\n",
              "      <td>53</td>\n",
              "      <td>1282</td>\n",
              "      <td>Research &amp; Development</td>\n",
              "      <td>Other</td>\n",
              "      <td>Female</td>\n",
              "      <td>Divorced</td>\n",
              "      <td>10735</td>\n",
              "      <td>No</td>\n",
              "      <td>0.0</td>\n",
              "    </tr>\n",
              "    <tr>\n",
              "      <th>26</th>\n",
              "      <td>32</td>\n",
              "      <td>1125</td>\n",
              "      <td>Research &amp; Development</td>\n",
              "      <td>Life Sciences</td>\n",
              "      <td>Female</td>\n",
              "      <td>Single</td>\n",
              "      <td>4681</td>\n",
              "      <td>Yes</td>\n",
              "      <td>0.0</td>\n",
              "    </tr>\n",
              "  </tbody>\n",
              "</table>\n",
              "</div>"
            ],
            "text/plain": [
              "    Age  DailyRate              Department EducationField  Gender  \\\n",
              "0    41       1102                   Sales  Life Sciences  Female   \n",
              "3    33       1392  Research & Development  Life Sciences  Female   \n",
              "6    59       1324  Research & Development        Medical  Female   \n",
              "11   29        153  Research & Development  Life Sciences  Female   \n",
              "15   29       1389  Research & Development  Life Sciences  Female   \n",
              "18   53       1219                   Sales  Life Sciences  Female   \n",
              "20   24        673  Research & Development          Other  Female   \n",
              "22   34        419  Research & Development  Life Sciences  Female   \n",
              "25   53       1282  Research & Development          Other  Female   \n",
              "26   32       1125  Research & Development  Life Sciences  Female   \n",
              "\n",
              "   MaritalStatus  MonthlyRate OverTime   Bonus  \n",
              "0         Single        19479      Yes  1947.9  \n",
              "3        Married        23159      Yes     0.0  \n",
              "6        Married         9964      Yes     0.0  \n",
              "11        Single        12682      Yes     0.0  \n",
              "15      Divorced        10195       No     0.0  \n",
              "18       Married        22021       No  2202.1  \n",
              "20      Divorced         8232       No     0.0  \n",
              "22        Single        21293       No     0.0  \n",
              "25      Divorced        10735       No     0.0  \n",
              "26        Single         4681      Yes     0.0  "
            ]
          },
          "execution_count": 28,
          "metadata": {},
          "output_type": "execute_result"
        }
      ],
      "source": [
        "df_female.head(10)"
      ]
    },
    {
      "cell_type": "code",
      "execution_count": 46,
      "metadata": {},
      "outputs": [],
      "source": [
        "# seperate each df with MaritalStatus\n",
        "# male\n",
        "df_male_single = df_male[df_male[\"MaritalStatus\"] == \"Single\"]\n",
        "df_male_married = df_male[df_male[\"MaritalStatus\"] == \"Married\"]\n",
        "df_male_Divorced = df_male[df_male[\"MaritalStatus\"] == \"Divorced\"]\n",
        "\n",
        "average_monthly_rate_male_single = df_male_single.groupby('Department')['MonthlyRate'].mean()\n",
        "average_monthly_rate_male_married = df_male_married.groupby('Department')['MonthlyRate'].mean()\n",
        "average_monthly_rate_male_Divorced = df_male_Divorced.groupby('Department')['MonthlyRate'].mean()\n",
        "\n",
        "# female\n",
        "df_female_single = df_female[df_female[\"MaritalStatus\"] == \"Single\"]\n",
        "df_female_married = df_female[df_female[\"MaritalStatus\"] == \"Married\"]\n",
        "df_female_Divorced = df_female[df_female[\"MaritalStatus\"] == \"Divorced\"]\n",
        "\n",
        "average_monthly_rate_female_single = df_female_single.groupby('Department')['MonthlyRate'].mean()\n",
        "average_monthly_rate_female_married = df_female_married.groupby('Department')['MonthlyRate'].mean()\n",
        "average_monthly_rate_female_Divorced = df_female_Divorced.groupby('Department')['MonthlyRate'].mean()"
      ]
    },
    {
      "cell_type": "code",
      "execution_count": 42,
      "metadata": {},
      "outputs": [
        {
          "data": {
            "text/plain": [
              "Department\n",
              "Human Resources            9286.375000\n",
              "Research & Development    14787.994286\n",
              "Sales                     14291.409091\n",
              "Name: MonthlyRate, dtype: float64"
            ]
          },
          "execution_count": 42,
          "metadata": {},
          "output_type": "execute_result"
        }
      ],
      "source": [
        "average_monthly_rate_male_single"
      ]
    },
    {
      "cell_type": "code",
      "execution_count": 47,
      "metadata": {},
      "outputs": [
        {
          "data": {
            "text/plain": [
              "Department\n",
              "Human Resources           20994.600000\n",
              "Research & Development    14530.038760\n",
              "Sales                     15534.338462\n",
              "Name: MonthlyRate, dtype: float64"
            ]
          },
          "execution_count": 47,
          "metadata": {},
          "output_type": "execute_result"
        }
      ],
      "source": [
        "average_monthly_rate_female_single"
      ]
    },
    {
      "cell_type": "code",
      "execution_count": 43,
      "metadata": {},
      "outputs": [
        {
          "data": {
            "text/plain": [
              "Department\n",
              "Human Resources           13363.608696\n",
              "Research & Development    13103.221805\n",
              "Sales                     15091.705357\n",
              "Name: MonthlyRate, dtype: float64"
            ]
          },
          "execution_count": 43,
          "metadata": {},
          "output_type": "execute_result"
        }
      ],
      "source": [
        "average_monthly_rate_male_married"
      ]
    },
    {
      "cell_type": "code",
      "execution_count": 48,
      "metadata": {},
      "outputs": [
        {
          "data": {
            "text/plain": [
              "Department\n",
              "Human Resources           12272.454545\n",
              "Research & Development    15379.718563\n",
              "Sales                     13462.223404\n",
              "Name: MonthlyRate, dtype: float64"
            ]
          },
          "execution_count": 48,
          "metadata": {},
          "output_type": "execute_result"
        }
      ],
      "source": [
        "average_monthly_rate_female_married"
      ]
    },
    {
      "cell_type": "code",
      "execution_count": 44,
      "metadata": {},
      "outputs": [
        {
          "data": {
            "text/plain": [
              "Department\n",
              "Human Resources           15016.166667\n",
              "Research & Development    14149.212766\n",
              "Sales                     14621.736842\n",
              "Name: MonthlyRate, dtype: float64"
            ]
          },
          "execution_count": 44,
          "metadata": {},
          "output_type": "execute_result"
        }
      ],
      "source": [
        "average_monthly_rate_male_Divorced"
      ]
    },
    {
      "cell_type": "code",
      "execution_count": 49,
      "metadata": {},
      "outputs": [
        {
          "data": {
            "text/plain": [
              "Department\n",
              "Human Resources           12060.000000\n",
              "Research & Development    14657.506024\n",
              "Sales                     13530.433333\n",
              "Name: MonthlyRate, dtype: float64"
            ]
          },
          "execution_count": 49,
          "metadata": {},
          "output_type": "execute_result"
        }
      ],
      "source": [
        "average_monthly_rate_female_Divorced"
      ]
    },
    {
      "cell_type": "code",
      "execution_count": 65,
      "metadata": {},
      "outputs": [
        {
          "data": {
            "image/png": "[encoded data removed]",
            "text/plain": [
              "<Figure size 640x480 with 1 Axes>"
            ]
          },
          "metadata": {},
          "output_type": "display_data"
        }
      ],
      "source": [
        "X = ['Human Resources','Research & Development','Sales'] \n",
        "X_axis = np.arange(len(average_monthly_rate_male_single)) \n",
        "  \n",
        "plt.bar(X_axis - 0.2, average_monthly_rate_male_single, 0.4, label = 'male_single') \n",
        "plt.bar(X_axis + 0.2, average_monthly_rate_male_married, 0.4, label = 'male_married') \n",
        "\n",
        "plt.xticks(X_axis, X) \n",
        "plt.ylabel(\"MonthlyRate\") \n",
        "plt.legend() \n",
        "plt.show() \n"
      ]
    },
    {
      "cell_type": "code",
      "execution_count": 66,
      "metadata": {},
      "outputs": [
        {
          "data": {
            "image/png": "[encoded data removed]",
            "text/plain": [
              "<Figure size 640x480 with 1 Axes>"
            ]
          },
          "metadata": {},
          "output_type": "display_data"
        }
      ],
      "source": [
        "X = ['Human Resources','Research & Development','Sales'] \n",
        "X_axis = np.arange(len(average_monthly_rate_female_single)) \n",
        "  \n",
        "plt.bar(X_axis - 0.2, average_monthly_rate_female_single, 0.4, label = 'female_single') \n",
        "plt.bar(X_axis + 0.2, average_monthly_rate_female_married, 0.4, label = 'female_married') \n",
        "\n",
        "plt.xticks(X_axis, X) \n",
        "plt.ylabel(\"MonthlyRate\") \n",
        "plt.legend() \n",
        "plt.show() "
      ]
    },
    {
      "cell_type": "code",
      "execution_count": 67,
      "metadata": {},
      "outputs": [
        {
          "data": {
            "image/png": "[encoded data removed]",
            "text/plain": [
              "<Figure size 640x480 with 1 Axes>"
            ]
          },
          "metadata": {},
          "output_type": "display_data"
        }
      ],
      "source": [
        "X = ['Human Resources','Research & Development','Sales'] \n",
        "X_axis = np.arange(len(average_monthly_rate_male_single)) \n",
        "  \n",
        "plt.bar(X_axis - 0.2, average_monthly_rate_male_single, 0.4, label = 'male_single') \n",
        "plt.bar(X_axis + 0.2, average_monthly_rate_female_single, 0.4, label = 'female_single') \n",
        "\n",
        "plt.xticks(X_axis, X) \n",
        "plt.ylabel(\"MonthlyRate\") \n",
        "plt.legend() \n",
        "plt.show() "
      ]
    },
    {
      "cell_type": "code",
      "execution_count": 68,
      "metadata": {},
      "outputs": [
        {
          "data": {
            "image/png": "[encoded data removed]",
            "text/plain": [
              "<Figure size 640x480 with 1 Axes>"
            ]
          },
          "metadata": {},
          "output_type": "display_data"
        }
      ],
      "source": [
        "X = ['Human Resources','Research & Development','Sales'] \n",
        "X_axis = np.arange(len(average_monthly_rate_male_married)) \n",
        "  \n",
        "plt.bar(X_axis - 0.2, average_monthly_rate_male_married, 0.4, label = 'male_married') \n",
        "plt.bar(X_axis + 0.2, average_monthly_rate_female_married, 0.4, label = 'female_married') \n",
        "\n",
        "plt.xticks(X_axis, X) \n",
        "plt.ylabel(\"MonthlyRate\") \n",
        "plt.legend() \n",
        "plt.show() "
      ]
    },
    {
      "cell_type": "markdown",
      "metadata": {
        "id": "M51Bo6B6M0XU"
      },
      "source": [
        "เนื่องจากโคบายาชิซังจะเป็นคนตรวจโค้ดของน้องๆ\n",
        "\n",
        "ขอให้น้องๆแสดงข้อมูลอย่างเข้าใจง่ายและแม่นยำ ไม่ฉะนั้นโคบายาชิซังจะทำการไล่น้องๆออกจากบริษัทนะครับ\n",
        "\n",
        "<div>\n",
        "<img src=\"https://i.redd.it/gwmyhe5g0av71.gif\" width=\"500\"/>\n",
        "</div>"
      ]
    },
    {
      "cell_type": "markdown",
      "metadata": {},
      "source": [
        "จากข้อมูล แสดงให้เห็นว่าแผนกที่มีปัญหาอยู่ที่แผนก \"Human Resources\"\n",
        "ทั้งจ่ายเงินเดือนให้แก่พนักงานหญิงที่โสด \"มากกว่า\" ผู้ชายที่โสด และมากกว่าเป็น 2 เท่าของผู้ชาย,\n",
        "จ่ายเงินเดือนให้แก่พนักงานหญิงที่โสด \"มากกว่า\" พนักงานหญิงที่ \"แต่งงาน\" แล้ว\n",
        "และผู้ชายที่ \"แต่งงาน\" แล้วในแผนกนี้มีเงินเดือน \"มากกว่า\" ผู้ชายที่โสด"
      ]
    }
  ],
  "metadata": {
    "colab": {
      "provenance": [],
      "toc_visible": true
    },
    "kernelspec": {
      "display_name": "Python 3",
      "language": "python",
      "name": "python3"
    },
    "language_info": {
      "codemirror_mode": {
        "name": "ipython",
        "version": 3
      },
      "file_extension": ".py",
      "mimetype": "text/x-python",
      "name": "python",
      "nbconvert_exporter": "python",
      "pygments_lexer": "ipython3",
      "version": "3.13.1"
    }
  },
  "nbformat": 4,
  "nbformat_minor": 0
}
